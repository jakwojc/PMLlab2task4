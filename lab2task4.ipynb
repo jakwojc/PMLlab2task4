{
  "nbformat": 4,
  "nbformat_minor": 0,
  "metadata": {
    "colab": {
      "provenance": [],
      "authorship_tag": "ABX9TyNdJYo9bI4zablEMV9m9ObA",
      "include_colab_link": true
    },
    "kernelspec": {
      "name": "python3",
      "display_name": "Python 3"
    },
    "language_info": {
      "name": "python"
    }
  },
  "cells": [
    {
      "cell_type": "markdown",
      "metadata": {
        "id": "view-in-github",
        "colab_type": "text"
      },
      "source": [
        "<a href=\"https://colab.research.google.com/github/jakwojc/PMLlab2task4/blob/test/lab2task4.ipynb\" target=\"_parent\"><img src=\"https://colab.research.google.com/assets/colab-badge.svg\" alt=\"Open In Colab\"/></a>"
      ]
    },
    {
      "cell_type": "code",
      "execution_count": null,
      "metadata": {
        "id": "usCP-ZEtSmze"
      },
      "outputs": [],
      "source": [
        "def celebrate():\n",
        "  print(\"wooooo\")"
      ]
    },
    {
      "cell_type": "code",
      "source": [
        "if True:\n",
        "  celebrate()"
      ],
      "metadata": {
        "id": "OqtDe7T4UDCL"
      },
      "execution_count": null,
      "outputs": []
    }
  ]
}
